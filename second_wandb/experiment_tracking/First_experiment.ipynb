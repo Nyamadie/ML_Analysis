{
 "cells": [
  {
   "cell_type": "code",
   "execution_count": 2,
   "id": "b7158856",
   "metadata": {
    "scrolled": true
   },
   "outputs": [
    {
     "name": "stdout",
     "output_type": "stream",
     "text": [
      "Requirement already satisfied: wandb in /home/codespace/anaconda3/lib/python3.9/site-packages (0.19.1)\n",
      "Requirement already satisfied: pandas in /home/codespace/anaconda3/lib/python3.9/site-packages (1.4.2)\n",
      "Requirement already satisfied: pyarrow in /home/codespace/anaconda3/lib/python3.9/site-packages (18.1.0)\n",
      "Requirement already satisfied: scikit-learn in /home/codespace/anaconda3/lib/python3.9/site-packages (1.0.2)\n",
      "Requirement already satisfied: matplotlib in /home/codespace/anaconda3/lib/python3.9/site-packages (3.5.1)\n",
      "Requirement already satisfied: setproctitle in /home/codespace/anaconda3/lib/python3.9/site-packages (from wandb) (1.3.4)\n",
      "Requirement already satisfied: click!=8.0.0,>=7.1 in /home/codespace/anaconda3/lib/python3.9/site-packages (from wandb) (8.0.4)\n",
      "Requirement already satisfied: platformdirs in /home/codespace/anaconda3/lib/python3.9/site-packages (from wandb) (4.3.6)\n",
      "Requirement already satisfied: eval-type-backport in /home/codespace/anaconda3/lib/python3.9/site-packages (from wandb) (0.2.0)\n",
      "Requirement already satisfied: psutil>=5.0.0 in /home/codespace/anaconda3/lib/python3.9/site-packages (from wandb) (5.8.0)\n",
      "Requirement already satisfied: protobuf!=4.21.0,!=5.28.0,<6,>=3.15.0 in /home/codespace/anaconda3/lib/python3.9/site-packages (from wandb) (3.19.1)\n",
      "Requirement already satisfied: gitpython!=3.1.29,>=1.0.0 in /home/codespace/anaconda3/lib/python3.9/site-packages (from wandb) (3.1.43)\n",
      "Requirement already satisfied: typing-extensions<5,>=4.4 in /home/codespace/anaconda3/lib/python3.9/site-packages (from wandb) (4.12.2)\n",
      "Requirement already satisfied: requests<3,>=2.0.0 in /home/codespace/anaconda3/lib/python3.9/site-packages (from wandb) (2.27.1)\n",
      "Requirement already satisfied: setuptools in /home/codespace/anaconda3/lib/python3.9/site-packages (from wandb) (61.2.0)\n",
      "Requirement already satisfied: pydantic<3,>=2.6 in /home/codespace/anaconda3/lib/python3.9/site-packages (from wandb) (2.10.3)\n",
      "Requirement already satisfied: docker-pycreds>=0.4.0 in /home/codespace/anaconda3/lib/python3.9/site-packages (from wandb) (0.4.0)\n",
      "Requirement already satisfied: sentry-sdk>=2.0.0 in /home/codespace/anaconda3/lib/python3.9/site-packages (from wandb) (2.19.2)\n",
      "Requirement already satisfied: pyyaml in /home/codespace/anaconda3/lib/python3.9/site-packages (from wandb) (6.0)\n",
      "Requirement already satisfied: python-dateutil>=2.8.1 in /home/codespace/anaconda3/lib/python3.9/site-packages (from pandas) (2.8.2)\n",
      "Requirement already satisfied: pytz>=2020.1 in /home/codespace/anaconda3/lib/python3.9/site-packages (from pandas) (2021.3)\n",
      "Requirement already satisfied: numpy>=1.18.5 in /home/codespace/anaconda3/lib/python3.9/site-packages (from pandas) (1.21.5)\n",
      "Requirement already satisfied: threadpoolctl>=2.0.0 in /home/codespace/anaconda3/lib/python3.9/site-packages (from scikit-learn) (2.2.0)\n",
      "Requirement already satisfied: joblib>=0.11 in /home/codespace/anaconda3/lib/python3.9/site-packages (from scikit-learn) (1.1.0)\n",
      "Requirement already satisfied: scipy>=1.1.0 in /home/codespace/anaconda3/lib/python3.9/site-packages (from scikit-learn) (1.7.3)\n",
      "Requirement already satisfied: pyparsing>=2.2.1 in /home/codespace/anaconda3/lib/python3.9/site-packages (from matplotlib) (3.0.4)\n",
      "Requirement already satisfied: kiwisolver>=1.0.1 in /home/codespace/anaconda3/lib/python3.9/site-packages (from matplotlib) (1.3.2)\n",
      "Requirement already satisfied: packaging>=20.0 in /home/codespace/anaconda3/lib/python3.9/site-packages (from matplotlib) (21.3)\n",
      "Requirement already satisfied: pillow>=6.2.0 in /home/codespace/anaconda3/lib/python3.9/site-packages (from matplotlib) (9.0.1)\n",
      "Requirement already satisfied: cycler>=0.10 in /home/codespace/anaconda3/lib/python3.9/site-packages (from matplotlib) (0.11.0)\n",
      "Requirement already satisfied: fonttools>=4.22.0 in /home/codespace/anaconda3/lib/python3.9/site-packages (from matplotlib) (4.25.0)\n",
      "Requirement already satisfied: six>=1.4.0 in /home/codespace/anaconda3/lib/python3.9/site-packages (from docker-pycreds>=0.4.0->wandb) (1.16.0)\n",
      "Requirement already satisfied: gitdb<5,>=4.0.1 in /home/codespace/anaconda3/lib/python3.9/site-packages (from gitpython!=3.1.29,>=1.0.0->wandb) (4.0.11)\n",
      "Requirement already satisfied: smmap<6,>=3.0.1 in /home/codespace/anaconda3/lib/python3.9/site-packages (from gitdb<5,>=4.0.1->gitpython!=3.1.29,>=1.0.0->wandb) (5.0.1)\n",
      "Requirement already satisfied: pydantic-core==2.27.1 in /home/codespace/anaconda3/lib/python3.9/site-packages (from pydantic<3,>=2.6->wandb) (2.27.1)\n",
      "Requirement already satisfied: annotated-types>=0.6.0 in /home/codespace/anaconda3/lib/python3.9/site-packages (from pydantic<3,>=2.6->wandb) (0.7.0)\n",
      "Requirement already satisfied: idna<4,>=2.5 in /home/codespace/anaconda3/lib/python3.9/site-packages (from requests<3,>=2.0.0->wandb) (3.3)\n",
      "Requirement already satisfied: charset-normalizer~=2.0.0 in /home/codespace/anaconda3/lib/python3.9/site-packages (from requests<3,>=2.0.0->wandb) (2.0.4)\n",
      "Requirement already satisfied: urllib3<1.27,>=1.21.1 in /home/codespace/anaconda3/lib/python3.9/site-packages (from requests<3,>=2.0.0->wandb) (1.26.20)\n",
      "Requirement already satisfied: certifi>=2017.4.17 in /home/codespace/anaconda3/lib/python3.9/site-packages (from requests<3,>=2.0.0->wandb) (2021.10.8)\n"
     ]
    }
   ],
   "source": [
    "!pip install wandb pandas pyarrow scikit-learn matplotlib "
   ]
  },
  {
   "cell_type": "code",
   "execution_count": 3,
   "id": "13491932",
   "metadata": {},
   "outputs": [],
   "source": [
    "import wandb\n",
    "import pickle\n",
    "from sklearn.linear_model import LogisticRegression\n",
    "from sklearn.datasets import load_iris\n",
    "from sklearn.metrics import mean_squared_error, accuracy_score"
   ]
  },
  {
   "cell_type": "code",
   "execution_count": 4,
   "id": "fd95011d",
   "metadata": {},
   "outputs": [
    {
     "name": "stderr",
     "output_type": "stream",
     "text": [
      "\u001b[34m\u001b[1mwandb\u001b[0m: Using wandb-core as the SDK backend.  Please refer to https://wandb.me/wandb-core for more information.\n",
      "\u001b[34m\u001b[1mwandb\u001b[0m: Currently logged in as: \u001b[33mnyamadie1\u001b[0m (\u001b[33mnyamadie1-whisper-health\u001b[0m). Use \u001b[1m`wandb login --relogin`\u001b[0m to force relogin\n"
     ]
    },
    {
     "data": {
      "text/html": [
       "Tracking run with wandb version 0.19.1"
      ],
      "text/plain": [
       "<IPython.core.display.HTML object>"
      ]
     },
     "metadata": {},
     "output_type": "display_data"
    },
    {
     "data": {
      "text/html": [
       "Run data is saved locally in <code>/workspaces/ML_Analysis/02/experiment_tracking/wandb/run-20241218_131819-oejeevlv</code>"
      ],
      "text/plain": [
       "<IPython.core.display.HTML object>"
      ]
     },
     "metadata": {},
     "output_type": "display_data"
    },
    {
     "data": {
      "text/html": [
       "Syncing run <strong><a href='https://wandb.ai/nyamadie1-whisper-health/First%20Experiment/runs/oejeevlv' target=\"_blank\">01</a></strong> to <a href='https://wandb.ai/nyamadie1-whisper-health/First%20Experiment' target=\"_blank\">Weights & Biases</a> (<a href='https://wandb.me/developer-guide' target=\"_blank\">docs</a>)<br>"
      ],
      "text/plain": [
       "<IPython.core.display.HTML object>"
      ]
     },
     "metadata": {},
     "output_type": "display_data"
    },
    {
     "data": {
      "text/html": [
       " View project at <a href='https://wandb.ai/nyamadie1-whisper-health/First%20Experiment' target=\"_blank\">https://wandb.ai/nyamadie1-whisper-health/First%20Experiment</a>"
      ],
      "text/plain": [
       "<IPython.core.display.HTML object>"
      ]
     },
     "metadata": {},
     "output_type": "display_data"
    },
    {
     "data": {
      "text/html": [
       " View run at <a href='https://wandb.ai/nyamadie1-whisper-health/First%20Experiment/runs/oejeevlv' target=\"_blank\">https://wandb.ai/nyamadie1-whisper-health/First%20Experiment/runs/oejeevlv</a>"
      ],
      "text/plain": [
       "<IPython.core.display.HTML object>"
      ]
     },
     "metadata": {},
     "output_type": "display_data"
    },
    {
     "data": {
      "text/html": [
       "<button onClick=\"this.nextSibling.style.display='block';this.style.display='none';\">Display W&B run</button><iframe src='https://wandb.ai/nyamadie1-whisper-health/First%20Experiment/runs/oejeevlv?jupyter=true' style='border:none;width:100%;height:420px;display:none;'></iframe>"
      ],
      "text/plain": [
       "<wandb.sdk.wandb_run.Run at 0x74ec75008340>"
      ]
     },
     "execution_count": 4,
     "metadata": {},
     "output_type": "execute_result"
    }
   ],
   "source": [
    "wandb.init(project='First Experiment', name='01')"
   ]
  },
  {
   "cell_type": "code",
   "execution_count": 5,
   "id": "4170b2f4",
   "metadata": {},
   "outputs": [],
   "source": [
    "X, y = load_iris(return_X_y=True)\n",
    "label_names = [\"Setosa\", \"Versicolour\", \"Virginica\"]"
   ]
  },
  {
   "cell_type": "code",
   "execution_count": 6,
   "id": "e5b9bff1",
   "metadata": {},
   "outputs": [],
   "source": [
    "# Log your model configs to Weights & Biases\n",
    "params = {\"C\": 0.22, \"random_state\": 42}\n",
    "wandb.config = params"
   ]
  },
  {
   "cell_type": "code",
   "execution_count": 7,
   "id": "09178600",
   "metadata": {},
   "outputs": [],
   "source": [
    "lr = LogisticRegression"
   ]
  },
  {
   "cell_type": "code",
   "execution_count": 8,
   "id": "aee41fd6",
   "metadata": {},
   "outputs": [],
   "source": [
    "model = lr(**params).fit(X, y)\n",
    "y_pred = model.predict(X)\n",
    "y_probas = model.predict_proba(X)"
   ]
  },
  {
   "cell_type": "code",
   "execution_count": 9,
   "id": "5dc004e5",
   "metadata": {},
   "outputs": [],
   "source": [
    "wandb.log({\n",
    "    \"accuracy\": accuracy_score(y, y_pred),\n",
    "    \"mean_squared_error\": mean_squared_error(y, y_pred) #logging just two, the accuracy score, the mse, etc.\n",
    "})"
   ]
  },
  {
   "cell_type": "code",
   "execution_count": 10,
   "id": "bdecf8ae",
   "metadata": {},
   "outputs": [],
   "source": [
    "wandb.sklearn.plot_roc(y, y_probas, labels=label_names)"
   ]
  },
  {
   "cell_type": "code",
   "execution_count": 11,
   "id": "50dc5f19",
   "metadata": {},
   "outputs": [],
   "source": [
    "wandb.sklearn.plot_precision_recall(y, y_probas, labels=label_names)"
   ]
  },
  {
   "cell_type": "code",
   "execution_count": 12,
   "id": "29ccd0b3",
   "metadata": {},
   "outputs": [],
   "source": [
    "wandb.sklearn.plot_confusion_matrix(y, y_pred, labels=label_names)"
   ]
  },
  {
   "cell_type": "code",
   "execution_count": 13,
   "id": "c001af60",
   "metadata": {},
   "outputs": [
    {
     "data": {
      "text/plain": [
       "<Artifact iris-logistic-regression-model>"
      ]
     },
     "execution_count": 13,
     "metadata": {},
     "output_type": "execute_result"
    }
   ],
   "source": [
    "# Save your model\n",
    "with open(\"logistic_regression.pkl\", \"wb\") as f:\n",
    "    pickle.dump(model, f)\n",
    "\n",
    "# Log your model as a versioned file to Weights & Biases Artifact\n",
    "artifact = wandb.Artifact(f\"iris-logistic-regression-model\", type=\"model\")\n",
    "artifact.add_file(\"logistic_regression.pkl\")\n",
    "wandb.log_artifact(artifact)"
   ]
  },
  {
   "cell_type": "code",
   "execution_count": 14,
   "id": "939efaef",
   "metadata": {},
   "outputs": [
    {
     "data": {
      "text/html": [],
      "text/plain": [
       "<IPython.core.display.HTML object>"
      ]
     },
     "metadata": {},
     "output_type": "display_data"
    },
    {
     "data": {
      "text/html": [
       "<br>    <style><br>        .wandb-row {<br>            display: flex;<br>            flex-direction: row;<br>            flex-wrap: wrap;<br>            justify-content: flex-start;<br>            width: 100%;<br>        }<br>        .wandb-col {<br>            display: flex;<br>            flex-direction: column;<br>            flex-basis: 100%;<br>            flex: 1;<br>            padding: 10px;<br>        }<br>    </style><br><div class=\"wandb-row\"><div class=\"wandb-col\"><h3>Run history:</h3><br/><table class=\"wandb\"><tr><td>accuracy</td><td>▁</td></tr><tr><td>mean_squared_error</td><td>▁</td></tr></table><br/></div><div class=\"wandb-col\"><h3>Run summary:</h3><br/><table class=\"wandb\"><tr><td>accuracy</td><td>0.96667</td></tr><tr><td>mean_squared_error</td><td>0.03333</td></tr></table><br/></div></div>"
      ],
      "text/plain": [
       "<IPython.core.display.HTML object>"
      ]
     },
     "metadata": {},
     "output_type": "display_data"
    },
    {
     "data": {
      "text/html": [
       " View run <strong style=\"color:#cdcd00\">01</strong> at: <a href='https://wandb.ai/nyamadie1-whisper-health/First%20Experiment/runs/oejeevlv' target=\"_blank\">https://wandb.ai/nyamadie1-whisper-health/First%20Experiment/runs/oejeevlv</a><br> View project at: <a href='https://wandb.ai/nyamadie1-whisper-health/First%20Experiment' target=\"_blank\">https://wandb.ai/nyamadie1-whisper-health/First%20Experiment</a><br>Synced 5 W&B file(s), 0 media file(s), 8 artifact file(s) and 3 other file(s)"
      ],
      "text/plain": [
       "<IPython.core.display.HTML object>"
      ]
     },
     "metadata": {},
     "output_type": "display_data"
    },
    {
     "data": {
      "text/html": [
       "Find logs at: <code>./wandb/run-20241218_131819-oejeevlv/logs</code>"
      ],
      "text/plain": [
       "<IPython.core.display.HTML object>"
      ]
     },
     "metadata": {},
     "output_type": "display_data"
    }
   ],
   "source": [
    "wandb.finish()"
   ]
  },
  {
   "cell_type": "code",
   "execution_count": null,
   "id": "54518588",
   "metadata": {},
   "outputs": [],
   "source": []
  },
  {
   "cell_type": "code",
   "execution_count": 15,
   "id": "4e8788cc",
   "metadata": {},
   "outputs": [
    {
     "ename": "NameError",
     "evalue": "name 'g' is not defined",
     "output_type": "error",
     "traceback": [
      "\u001b[0;31m---------------------------------------------------------------------------\u001b[0m",
      "\u001b[0;31mNameError\u001b[0m                                 Traceback (most recent call last)",
      "Input \u001b[0;32mIn [15]\u001b[0m, in \u001b[0;36m<cell line: 1>\u001b[0;34m()\u001b[0m\n\u001b[0;32m----> 1\u001b[0m \u001b[43mg\u001b[49m\n",
      "\u001b[0;31mNameError\u001b[0m: name 'g' is not defined"
     ]
    }
   ],
   "source": [
    "g"
   ]
  },
  {
   "cell_type": "code",
   "execution_count": null,
   "id": "5c1c0cdf",
   "metadata": {},
   "outputs": [],
   "source": []
  }
 ],
 "metadata": {
  "kernelspec": {
   "display_name": "Python 3 (ipykernel)",
   "language": "python",
   "name": "python3"
  },
  "language_info": {
   "codemirror_mode": {
    "name": "ipython",
    "version": 3
   },
   "file_extension": ".py",
   "mimetype": "text/x-python",
   "name": "python",
   "nbconvert_exporter": "python",
   "pygments_lexer": "ipython3",
   "version": "3.9.12"
  }
 },
 "nbformat": 4,
 "nbformat_minor": 5
}
